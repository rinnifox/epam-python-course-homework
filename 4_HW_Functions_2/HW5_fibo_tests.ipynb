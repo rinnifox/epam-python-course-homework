{
 "cells": [
  {
   "cell_type": "code",
   "execution_count": 35,
   "metadata": {
    "collapsed": true
   },
   "outputs": [],
   "source": [
    "import time\n",
    "\n",
    "\n",
    "def dec_counter(var_name: str):\n",
    "    start_time = time.time()\n",
    "        \n",
    "    def wrap_function(func):\n",
    "        call_counter = 0\n",
    "\n",
    "        def wrapper(*args):\n",
    "            nonlocal call_counter\n",
    "            call_counter +=1\n",
    "            val = func(*args)\n",
    "            current_time = time.time()\n",
    "            globals()[var_name] = (current_time-start_time, call_counter)\n",
    "            return val\n",
    "\n",
    "        return wrapper\n",
    "\n",
    "    return wrap_function"
   ]
  },
  {
   "cell_type": "code",
   "execution_count": 36,
   "metadata": {
    "collapsed": true
   },
   "outputs": [],
   "source": [
    "x=15"
   ]
  },
  {
   "cell_type": "code",
   "execution_count": 37,
   "metadata": {},
   "outputs": [
    {
     "name": "stdout",
     "output_type": "stream",
     "text": [
      "Результат расчета рекурсивной функции:  610\n",
      "Время (с), кол-во вызовов:  (0.0012958049774169922, 1973)\n"
     ]
    }
   ],
   "source": [
    "# recursive\n",
    "\n",
    "counter1 = 0\n",
    "\n",
    "\n",
    "@dec_counter('counter1')\n",
    "def fib_rec(n):\n",
    "    if n < 2:\n",
    "        return n\n",
    "    return fib_rec(n-1) + fib_rec(n-2)\n",
    "\n",
    "\n",
    "print('Результат расчета рекурсивной функции: ', fib_rec(x))\n",
    "print('Время (с), кол-во вызовов: ', globals()['counter1'])"
   ]
  },
  {
   "cell_type": "code",
   "execution_count": 38,
   "metadata": {},
   "outputs": [
    {
     "name": "stdout",
     "output_type": "stream",
     "text": [
      "Результат расчета рекурсивной функции с запоминанием:  610\n",
      "Время (с), кол-во вызовов:  (5.602836608886719e-05, 29)\n"
     ]
    }
   ],
   "source": [
    "# recursive with memorizing the calculations\n",
    "\n",
    "counter2 = 0\n",
    "M = {0: 0, 1: 1}\n",
    "\n",
    "\n",
    "@dec_counter('counter2')\n",
    "def fib_rec_mem(n):\n",
    "    if n in M:\n",
    "        return M[n]\n",
    "    M[n] = fib_rec_mem(n - 1) + fib_rec_mem(n - 2)\n",
    "    return M[n]\n",
    "\n",
    "\n",
    "print('Результат расчета рекурсивной функции с запоминанием: ', fib_rec_mem(x))\n",
    "print('Время (с), кол-во вызовов: ', globals()['counter2'])"
   ]
  },
  {
   "cell_type": "code",
   "execution_count": 39,
   "metadata": {},
   "outputs": [
    {
     "name": "stdout",
     "output_type": "stream",
     "text": [
      "Результат расчета нерекурсивной функции:  610\n",
      "Время (с), кол-во вызовов:  (3.886222839355469e-05, 1)\n"
     ]
    }
   ],
   "source": [
    "# non-recursive\n",
    "\n",
    "counter3 = 0\n",
    "\n",
    "\n",
    "@dec_counter('counter3')\n",
    "def fib_non_rec(n):\n",
    "    fib1=fib2=1\n",
    "    fib_sum = 0\n",
    "    i = 2\n",
    "    while i < n:\n",
    "        fib_sum = fib2 + fib1\n",
    "        fib1 = fib2\n",
    "        fib2 = fib_sum\n",
    "        i += 1\n",
    "    return fib_sum\n",
    "\n",
    "\n",
    "print('Результат расчета нерекурсивной функции: ', fib_non_rec(x))\n",
    "print('Время (с), кол-во вызовов: ', globals()['counter3'])"
   ]
  },
  {
   "cell_type": "code",
   "execution_count": 40,
   "metadata": {
    "scrolled": true
   },
   "outputs": [
    {
     "name": "stdout",
     "output_type": "stream",
     "text": [
      "Результат расчета с помощью возведения матрицы в степень:  610\n",
      "Общее время (с):  6.079673767089844e-05\n",
      "Общее число вызовов:   10\n"
     ]
    }
   ],
   "source": [
    "# using matrixes\n",
    "\n",
    "counter4 = 0\n",
    "counter00 = 0\n",
    "counter01 = 0\n",
    "\n",
    "\n",
    "@dec_counter('counter00')\n",
    "def matrix_mul(a, b):\n",
    "    return [[\n",
    "        a[0][0] * b[0][0] + a[0][1] * b[1][0],\n",
    "        a[0][0] * b[0][1] + a[0][1] * b[1][1]\n",
    "    ], [\n",
    "        a[1][0] * b[0][0] + a[1][1] * b[1][0],\n",
    "        a[1][0] * b[0][1] + a[1][1] * b[1][1]\n",
    "    ]]\n",
    "\n",
    "\n",
    "@dec_counter('counter01')\n",
    "def power(p):\n",
    "    m = [[1, 1], [1, 0]]\n",
    "    t = [[1, 0], [0, 1]]\n",
    "    while p:\n",
    "        if p % 2:\n",
    "            t = matrix_mul(t, m)\n",
    "        m = matrix_mul(m, m)\n",
    "        p //= 2\n",
    "    return t\n",
    "\n",
    "\n",
    "@dec_counter('counter4')\n",
    "def fib_matrix(n):\n",
    "    return power(n)[1][0]\n",
    "\n",
    "\n",
    "print('Результат расчета с помощью возведения матрицы в степень: ', fib_matrix(x))\n",
    "\n",
    "print('Общее время (с): ', globals()['counter4'][0])\n",
    "print('Общее число вызовов:  ', globals()['counter4'][1]+globals()['counter00'][1]+globals()['counter01'][1])"
   ]
  },
  {
   "cell_type": "code",
   "execution_count": 41,
   "metadata": {},
   "outputs": [
    {
     "name": "stdout",
     "output_type": "stream",
     "text": [
      "Результат расчета динамической функции:  610\n",
      "Время (с), кол-во вызовов:  (8.606910705566406e-05, 1)\n"
     ]
    }
   ],
   "source": [
    "# dynamic\n",
    "\n",
    "counter5 = 0\n",
    "\n",
    "\n",
    "@dec_counter('counter5')\n",
    "def fib_dyn(n):\n",
    "    a = 0\n",
    "    b = 1\n",
    "    for __ in range(n):\n",
    "        a, b = b, a + b\n",
    "    return a\n",
    "\n",
    "\n",
    "print('Результат расчета динамической функции: ', fib_dyn(x))\n",
    "print('Время (с), кол-во вызовов: ', globals()['counter5'])"
   ]
  },
  {
   "cell_type": "markdown",
   "metadata": {
    "collapsed": true
   },
   "source": [
    "ВЫВОД:\n",
    "\n",
    "Среди наилучших методов можно выделить нерекурсивный метод, а также динамический подход. Они занимают наименьшее время по сравнению с остальными методами, а также требуют минимального числа вызовов. При этом нерекурсивный способ немного опережает динамический способ вычисления по времени выполнения.\n",
    "\n",
    "Затем можно отметить рекурсию с запоминанием и матричный подход, которые занимают небольшое количество времени (примерно равное между собой), но требуют большего числа вызовов.\n",
    "\n",
    "Наихудшим показал себя рекурсивный подход, который требует большого числа вызовов и занимает продолжительное время по сравнению с остальными способами вычисления.\n",
    "\n"
   ]
  }
 ],
 "metadata": {
  "kernelspec": {
   "display_name": "Python 3",
   "language": "python",
   "name": "python3"
  },
  "language_info": {
   "codemirror_mode": {
    "name": "ipython",
    "version": 3
   },
   "file_extension": ".py",
   "mimetype": "text/x-python",
   "name": "python",
   "nbconvert_exporter": "python",
   "pygments_lexer": "ipython3",
   "version": "3.6.3"
  }
 },
 "nbformat": 4,
 "nbformat_minor": 2
}
